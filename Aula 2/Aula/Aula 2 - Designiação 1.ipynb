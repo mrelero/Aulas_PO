{
 "cells": [
  {
   "cell_type": "code",
   "execution_count": 41,
   "metadata": {},
   "outputs": [],
   "source": [
    "import gurobipy as gp"
   ]
  },
  {
   "cell_type": "code",
   "execution_count": null,
   "metadata": {},
   "outputs": [],
   "source": [
    "#Recursos para fazer #Tarefas"
   ]
  },
  {
   "cell_type": "code",
   "execution_count": 2,
   "metadata": {},
   "outputs": [],
   "source": [
    "#x, y, z são variáveis na maioria das vezes"
   ]
  },
  {
   "cell_type": "code",
   "execution_count": 5,
   "metadata": {},
   "outputs": [],
   "source": [
    "#1º Criar os Parâmetros Brutos\n",
    "qtd_projetos = 6\n",
    "qtd_equipes = 6\n",
    "\n",
    "lista_custos = [\n",
    "    [108, 312, 144, 270, 160, 300],\n",
    "    [108, 208, 144, 360, 180, 270],\n",
    "    [108, 234, 180, 240, 180, 300],\n",
    "    [144, 286, 180, 330, 240, 300],\n",
    "    [132, 286, 144, 330, 180, 270],\n",
    "    [120, 312, 144, 270, 220, 300]]\n"
   ]
  },
  {
   "cell_type": "code",
   "execution_count": 14,
   "metadata": {},
   "outputs": [
    {
     "name": "stdout",
     "output_type": "stream",
     "text": [
      "['Equipe_1', 'Equipe_2', 'Equipe_3', 'Equipe_4', 'Equipe_5', 'Equipe_6']\n",
      "['Projeto_1', 'Projeto_2', 'Projeto_3', 'Projeto_4', 'Projeto_5', 'Projeto_6']\n"
     ]
    }
   ],
   "source": [
    "#2ºCriar uma lista com todos os indices\n",
    "\n",
    "equipes = list()\n",
    "projetos =list()\n",
    "\n",
    "#Formato 1\n",
    "#for i in range(qtd_equipes):\n",
    " #   equipes.append(\"Equipe_{}\".format(1+i))\n",
    "#for i in range(qtd_projetos):\n",
    " #   projetos.append(\"Projeto_{}\".format(1+i))\n",
    "    \n",
    "#Formato 2\n",
    "equipes = [\"Equipe_{}\".format(1+i) for i in range(qtd_equipes)]\n",
    "projetos = [\"Projeto_{}\".format(1+i) for i in range(qtd_equipes)]\n",
    "print (equipes)\n",
    "print (projetos)"
   ]
  },
  {
   "cell_type": "code",
   "execution_count": 28,
   "metadata": {},
   "outputs": [
    {
     "name": "stdout",
     "output_type": "stream",
     "text": [
      "286\n"
     ]
    }
   ],
   "source": [
    "#3º Criar um dicionario com os parametros\n",
    "custos = dict()\n",
    "for i, eq in enumerate (equipes):\n",
    "    for j, proj in enumerate(projetos):\n",
    "        custos[eq, proj] = lista_custos[i][j]\n",
    "print(custos['Equipe_4','Projeto_2'])\n",
    "\n",
    "#Dicionario faz uma relação entre um rotulo e um valor. \n",
    "#Gurobi funciona com dicionarios"
   ]
  },
  {
   "cell_type": "code",
   "execution_count": 42,
   "metadata": {},
   "outputs": [],
   "source": [
    "#4º Criar o Modelo em Branco\n",
    "m = gp.Model()"
   ]
  },
  {
   "cell_type": "code",
   "execution_count": 59,
   "metadata": {},
   "outputs": [
    {
     "name": "stdout",
     "output_type": "stream",
     "text": [
      "Valor Objetivo: 1166.0\n"
     ]
    }
   ],
   "source": [
    "#5º Adiciona as variaveis de decisão ao modelo\n",
    "\n",
    "designacoes = m.addVars(equipes, projetos, vtype = gp.GRB.BINARY)\n",
    "#equipes - Rotulos de Equipes\n",
    "#projetos - Rotulos de Projetos\n",
    "\n",
    "#print (designacoes)\n",
    "#6º Cruar as restrições\n",
    "restr_equipes = m.addConstrs(gp.quicksum(designacoes[i, j] for j in projetos)==1 for i in equipes)\n",
    "restr_projetos = m.addConstrs(gp.quicksum(designacoes[i, j] for i in equipes)==1 for j in projetos)\n",
    "\n",
    "#print (restr_projetos)\n",
    "#print (restr_equipes)\n",
    "\n",
    "#7º Objetivo \n",
    "obj = m.setObjective( gp.quicksum(custos[i, j] * designacoes [i, j] for i in equipes for j in projetos), sense = gp.GRB.MINIMIZE)\n",
    "\n",
    "#8 Rodar o modelo\n",
    "m.optimize()\n",
    "m.setParam('LogToConsole',0)\n",
    "print(\"Valor Objetivo:\", m.objVal)"
   ]
  },
  {
   "cell_type": "code",
   "execution_count": 65,
   "metadata": {},
   "outputs": [
    {
     "name": "stdout",
     "output_type": "stream",
     "text": [
      "A Equipe_1 fara o Projeto_5.\n",
      "A Equipe_2 fara o Projeto_2.\n",
      "A Equipe_3 fara o Projeto_4.\n",
      "A Equipe_4 fara o Projeto_1.\n",
      "A Equipe_5 fara o Projeto_6.\n",
      "A Equipe_6 fara o Projeto_3.\n",
      "--------------\n",
      "Custo Total:  1166.0\n"
     ]
    }
   ],
   "source": [
    "#7º Interpretar a resposta\n",
    "for eq in equipes:\n",
    "    for proj in projetos:\n",
    "        if round(designacoes[eq,proj].X) == 1:\n",
    "            print (\"A {} fara o {}.\".format(eq,proj))\n",
    "            \n",
    "print (\"--------------\")\n",
    "print (\"Custo Total: \", m.objVal)"
   ]
  },
  {
   "cell_type": "code",
   "execution_count": null,
   "metadata": {},
   "outputs": [],
   "source": []
  }
 ],
 "metadata": {
  "kernelspec": {
   "display_name": "Python 3",
   "language": "python",
   "name": "python3"
  },
  "language_info": {
   "codemirror_mode": {
    "name": "ipython",
    "version": 3
   },
   "file_extension": ".py",
   "mimetype": "text/x-python",
   "name": "python",
   "nbconvert_exporter": "python",
   "pygments_lexer": "ipython3",
   "version": "3.8.5"
  }
 },
 "nbformat": 4,
 "nbformat_minor": 4
}

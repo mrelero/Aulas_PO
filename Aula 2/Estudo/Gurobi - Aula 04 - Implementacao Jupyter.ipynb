{
 "cells": [
  {
   "cell_type": "code",
   "execution_count": 17,
   "metadata": {},
   "outputs": [],
   "source": [
    "# Importa a biblioteca do Gurobi\n",
    "import gurobipy as gp"
   ]
  },
  {
   "cell_type": "code",
   "execution_count": 19,
   "metadata": {},
   "outputs": [],
   "source": [
    "def le_dados(nome_arq):\n",
    "    with open(nome_arq, \"r\") as f:\n",
    "        linhas = f.readlines()\n",
    "        valores = linhas[0].strip().split(\" \")\n",
    "        qtd_itens = int(valores[0])\n",
    "        capacidade = int(valores[1])\n",
    "        # Vetores de pesos e valores\n",
    "        vet_pesos = list()\n",
    "        vet_valores = list()\n",
    "        del(linhas[0])\n",
    "        for linha in linhas:\n",
    "            valores = linha.strip().split(\" \")\n",
    "            vet_pesos.append(int(valores[0]))\n",
    "            vet_valores.append(int(valores[1]))\n",
    "        # Criar os rótulos dos itens\n",
    "        itens = list()\n",
    "        for i in range(qtd_itens):\n",
    "            rotulo = \"Item_{}\".format(i + 1)\n",
    "            itens.append(rotulo)\n",
    "        # Cria o dicionário de pesos\n",
    "        pesos = dict()\n",
    "        for idx, peso in enumerate(vet_pesos):\n",
    "            rotulo = itens[idx]\n",
    "            pesos[rotulo] = peso\n",
    "        # Cria o dicionário de valores\n",
    "        valores = dict()\n",
    "        for idx, valor in enumerate(vet_valores):\n",
    "            rotulo = itens[idx]\n",
    "            valores[rotulo] = valor\n",
    "    # Retorna os dados lidos\n",
    "    return itens, capacidade, pesos, valores"
   ]
  },
  {
   "cell_type": "code",
   "execution_count": 28,
   "metadata": {},
   "outputs": [],
   "source": [
    "def solver_mochila(nome_arq):\n",
    "    # Lê os dados do arquivo\n",
    "    itens, capacidade, pesos, valores = le_dados(nome_arq)\n",
    "    \n",
    "    m = gp.Model()\n",
    "    m.setParam(gp.GRB.Param.OutputFlag, 0)\n",
    "    # Inserir as variáveis de decisão\n",
    "    x = m.addVars(itens, vtype=gp.GRB.BINARY)\n",
    "\n",
    "    # Função objetivo\n",
    "    m.setObjective(\n",
    "        gp.quicksum(x[i] * valores[i] for i in itens),\n",
    "        sense=gp.GRB.MAXIMIZE\n",
    "    )\n",
    "\n",
    "    # Restrição de capacidade\n",
    "    c1 = m.addConstr(\n",
    "        gp.quicksum(x[i] * pesos[i] for i in itens) <= capacidade)\n",
    "\n",
    "    # Executa o modelo\n",
    "    m.optimize()\n",
    "    \n",
    "    # Lista com os itens na mochila\n",
    "    lista_mochila = list()\n",
    "    for item in itens:\n",
    "        if round(x[item].X) == 1:\n",
    "            lista_mochila.append(item)\n",
    "    \n",
    "    # Retornar os resultados\n",
    "    return m.objVal, lista_mochila"
   ]
  },
  {
   "cell_type": "code",
   "execution_count": 29,
   "metadata": {},
   "outputs": [
    {
     "name": "stdout",
     "output_type": "stream",
     "text": [
      "Instancia 0 : Valor objetivo: 4071.0\n",
      "['Item_1', 'Item_3', 'Item_5', 'Item_6', 'Item_9', 'Item_12', 'Item_15', 'Item_17', 'Item_18', 'Item_19', 'Item_20', 'Item_21', 'Item_25']\n",
      "Instancia 1 : Valor objetivo: 4185.0\n",
      "['Item_1', 'Item_2', 'Item_3', 'Item_5', 'Item_7', 'Item_8', 'Item_9', 'Item_15', 'Item_21', 'Item_23', 'Item_24', 'Item_25']\n",
      "Instancia 2 : Valor objetivo: 4161.0\n",
      "['Item_1', 'Item_2', 'Item_3', 'Item_7', 'Item_8', 'Item_9', 'Item_10', 'Item_12', 'Item_13', 'Item_16', 'Item_17', 'Item_18', 'Item_20']\n",
      "Instancia 3 : Valor objetivo: 4144.0\n",
      "['Item_2', 'Item_3', 'Item_4', 'Item_6', 'Item_10', 'Item_11', 'Item_14', 'Item_15', 'Item_16', 'Item_20', 'Item_23', 'Item_25', 'Item_29']\n",
      "Instancia 4 : Valor objetivo: 10777.0\n",
      "['Item_2', 'Item_7', 'Item_11', 'Item_12', 'Item_14', 'Item_15', 'Item_17', 'Item_18', 'Item_20', 'Item_24', 'Item_30', 'Item_31', 'Item_33', 'Item_34', 'Item_35', 'Item_36', 'Item_37', 'Item_39', 'Item_40', 'Item_41', 'Item_44', 'Item_49', 'Item_50', 'Item_51', 'Item_52', 'Item_54', 'Item_55', 'Item_66', 'Item_67', 'Item_69', 'Item_71', 'Item_73', 'Item_74']\n",
      "Instancia 5 : Valor objetivo: 13259.0\n",
      "['Item_2', 'Item_3', 'Item_4', 'Item_6', 'Item_7', 'Item_9', 'Item_10', 'Item_11', 'Item_12', 'Item_14', 'Item_17', 'Item_19', 'Item_20', 'Item_25', 'Item_35', 'Item_37', 'Item_40', 'Item_41', 'Item_43', 'Item_45', 'Item_46', 'Item_48', 'Item_49', 'Item_53', 'Item_54', 'Item_56', 'Item_57', 'Item_64', 'Item_65', 'Item_67', 'Item_71', 'Item_72', 'Item_74', 'Item_75', 'Item_76', 'Item_77', 'Item_80', 'Item_81']\n",
      "Instancia 6 : Valor objetivo: 8597.0\n",
      "['Item_1', 'Item_3', 'Item_4', 'Item_5', 'Item_7', 'Item_12', 'Item_14', 'Item_15', 'Item_17', 'Item_18', 'Item_19', 'Item_23', 'Item_26', 'Item_28', 'Item_30', 'Item_31', 'Item_32', 'Item_34', 'Item_37', 'Item_39', 'Item_40', 'Item_41', 'Item_42', 'Item_43', 'Item_45', 'Item_46', 'Item_54']\n",
      "Instancia 7 : Valor objetivo: 5452.0\n",
      "['Item_2', 'Item_4', 'Item_5', 'Item_6', 'Item_7', 'Item_10', 'Item_11', 'Item_12', 'Item_14', 'Item_15', 'Item_19', 'Item_20', 'Item_21', 'Item_23', 'Item_24', 'Item_26', 'Item_29', 'Item_30']\n",
      "Instancia 8 : Valor objetivo: 18362.0\n",
      "['Item_1', 'Item_2', 'Item_3', 'Item_4', 'Item_5', 'Item_9', 'Item_11', 'Item_12', 'Item_18', 'Item_19', 'Item_20', 'Item_22', 'Item_23', 'Item_25', 'Item_27', 'Item_28', 'Item_29', 'Item_30', 'Item_31', 'Item_32', 'Item_34', 'Item_37', 'Item_39', 'Item_41', 'Item_42', 'Item_44', 'Item_46', 'Item_48', 'Item_49', 'Item_50', 'Item_53', 'Item_54', 'Item_55', 'Item_57', 'Item_58', 'Item_59', 'Item_62', 'Item_63', 'Item_65', 'Item_66', 'Item_68', 'Item_69', 'Item_73', 'Item_76', 'Item_79', 'Item_80', 'Item_82', 'Item_84', 'Item_85', 'Item_88', 'Item_89', 'Item_91', 'Item_93', 'Item_94', 'Item_97', 'Item_98', 'Item_99']\n",
      "Instancia 9 : Valor objetivo: 6765.0\n",
      "['Item_1', 'Item_4', 'Item_6', 'Item_7', 'Item_8', 'Item_11', 'Item_12', 'Item_13', 'Item_15', 'Item_17', 'Item_18', 'Item_19', 'Item_22', 'Item_25', 'Item_28', 'Item_30', 'Item_31', 'Item_34', 'Item_35', 'Item_36', 'Item_38', 'Item_40']\n"
     ]
    }
   ],
   "source": [
    "arq_padrao = \"Instancias/inst_{:03d}.txt\"\n",
    "for i in range(10):\n",
    "    nome_arq = arq_padrao.format(i)\n",
    "    resultado, lista = solver_mochila(nome_arq)\n",
    "    print(\"Instancia\", i, \": Valor objetivo:\", resultado)\n",
    "    print(lista)"
   ]
  }
 ],
 "metadata": {
  "kernelspec": {
   "display_name": "Python 3",
   "language": "python",
   "name": "python3"
  },
  "language_info": {
   "codemirror_mode": {
    "name": "ipython",
    "version": 3
   },
   "file_extension": ".py",
   "mimetype": "text/x-python",
   "name": "python",
   "nbconvert_exporter": "python",
   "pygments_lexer": "ipython3",
   "version": "3.7.6"
  }
 },
 "nbformat": 4,
 "nbformat_minor": 4
}

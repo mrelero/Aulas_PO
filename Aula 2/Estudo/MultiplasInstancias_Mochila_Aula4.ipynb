{
 "cells": [
  {
   "cell_type": "code",
   "execution_count": 124,
   "metadata": {},
   "outputs": [],
   "source": [
    "import gurobipy as gp"
   ]
  },
  {
   "cell_type": "code",
   "execution_count": 144,
   "metadata": {},
   "outputs": [],
   "source": [
    "def le_dados(nome_arq):\n",
    "    with open(nome_arq,'r') as f:\n",
    "        linhas = f.readlines()\n",
    "        valores = linhas[0].strip().split(\" \")\n",
    "        qtd_itens =  int (valores[0])\n",
    "        capacidade = int (valores[1])\n",
    "        vet_pesos = list()\n",
    "        vet_valor = list()\n",
    "        del (linhas[0])\n",
    "        for linha in linhas:\n",
    "            aux = linha.strip().split(\" \")\n",
    "            vet_pesos.append(int(aux[0]))\n",
    "            vet_valor.append(int(aux[1]))\n",
    "        \n",
    "         \n",
    "        itens = list ()\n",
    "        for i in range(qtd_itens):\n",
    "            aux2 = \"Item_{}\".format(i+1)\n",
    "            itens.append(aux2)   \n",
    "    \n",
    "        pesos_dict = dict()\n",
    "        valores_dict = dict()\n",
    "        \n",
    "        for idx, peso in enumerate(vet_pesos):\n",
    "            rotulo = itens[idx]\n",
    "            pesos_dict[rotulo] =  vet_pesos[idx]\n",
    "\n",
    "        for idx, valor in enumerate(vet_valor):\n",
    "            rotulo = itens[idx]\n",
    "            valores_dict[rotulo] = vet_valor[idx]\n",
    "\n",
    "    return itens, capacidade, pesos_dict, valores_dict"
   ]
  },
  {
   "cell_type": "code",
   "execution_count": 92,
   "metadata": {},
   "outputs": [],
   "source": [
    "# Formato de Dicionario Itens_1: Peso"
   ]
  },
  {
   "cell_type": "code",
   "execution_count": 149,
   "metadata": {},
   "outputs": [],
   "source": [
    "#inicia o modelo\n",
    "def solver_Mochila (nome_arq):\n",
    "    #Le os dados do arquivo\n",
    "    itens, cap, pesos, valor = le_dados(nome_arq)\n",
    "    modelo = gp.Model ()\n",
    "    modelo.setParam(gp.GRB.Param.OutputFlag,0)\n",
    "\n",
    "    #x1 é um item selecionado ou não\n",
    "    x = modelo.addVars(itens, vtype = gp.GRB.BINARY)\n",
    "    modelo.setObjective(gp.quicksum(x[i]*valor[i] for i in itens), sense = gp.GRB.MAXIMIZE)\n",
    "    c1 = modelo.addConstr(gp.quicksum(x[i]*pesos[i] for i in itens)<=cap)\n",
    "\n",
    "    modelo.optimize()\n",
    "    #retorno\n",
    "    \n",
    "    return modelo.objVal\n"
   ]
  },
  {
   "cell_type": "code",
   "execution_count": 152,
   "metadata": {},
   "outputs": [
    {
     "name": "stdout",
     "output_type": "stream",
     "text": [
      "[4071.0, 4185.0, 4161.0, 4144.0, 10777.0, 13259.0, 8597.0, 5452.0, 18362.0, 6765.0, 4176.0, 9417.0, 21366.0, 18700.0, 19477.0, 8473.0, 6214.0, 4395.0, 12174.0, 14521.0, 6836.0, 6879.0, 3020.0, 12421.0, 3748.0, 8030.0, 6720.0, 20102.0, 14141.0, 12649.0, 9801.0, 16543.0, 7631.0, 5781.0, 10913.0, 13151.0, 7657.0, 18821.0, 21352.0, 15982.0, 12456.0, 16716.0, 8411.0, 9518.0, 16099.0, 4586.0, 10884.0, 5095.0, 5660.0, 4064.0, 10949.0, 9760.0, 5657.0, 18311.0, 19204.0, 16123.0, 13311.0, 5633.0, 16623.0, 11114.0, 4769.0, 11298.0, 9884.0, 3255.0, 13728.0, 5442.0, 12827.0, 6874.0, 15785.0, 13395.0, 15754.0, 5342.0, 15565.0, 14047.0, 7511.0, 7465.0, 19231.0, 13110.0, 4997.0, 4807.0, 12851.0, 9889.0, 12255.0, 13155.0, 16598.0, 4669.0, 10640.0, 17755.0, 9211.0, 13055.0, 5677.0, 5364.0, 8232.0, 15092.0, 9425.0, 10410.0, 14070.0, 3713.0, 10580.0, 12760.0]\n"
     ]
    }
   ],
   "source": [
    "lista_arquivos = list()\n",
    "resultados = list()\n",
    "for i in range(100):\n",
    "    lista_arquivos.append(\"Instancias/inst_{:03d}.txt\".format(i))\n",
    "    #nome_arquivo = \"Instancias/inst_{:03d}.txt\".format(i)\n",
    "\n",
    "\n",
    "for i in range(100):\n",
    "    resultados.append(solver_Mochila(lista_arquivos[i]))\n",
    "    \n",
    "print (resultados)"
   ]
  },
  {
   "cell_type": "code",
   "execution_count": null,
   "metadata": {},
   "outputs": [],
   "source": []
  }
 ],
 "metadata": {
  "kernelspec": {
   "display_name": "Python 3",
   "language": "python",
   "name": "python3"
  },
  "language_info": {
   "codemirror_mode": {
    "name": "ipython",
    "version": 3
   },
   "file_extension": ".py",
   "mimetype": "text/x-python",
   "name": "python",
   "nbconvert_exporter": "python",
   "pygments_lexer": "ipython3",
   "version": "3.8.5"
  }
 },
 "nbformat": 4,
 "nbformat_minor": 4
}

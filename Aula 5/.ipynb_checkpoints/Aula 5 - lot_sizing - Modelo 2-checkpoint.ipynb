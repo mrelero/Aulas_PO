{
 "cells": [
  {
   "cell_type": "code",
   "execution_count": 10,
   "metadata": {},
   "outputs": [],
   "source": [
    "import gurobipy as gp"
   ]
  },
  {
   "cell_type": "code",
   "execution_count": 11,
   "metadata": {},
   "outputs": [
    {
     "name": "stdout",
     "output_type": "stream",
     "text": [
      "12\n"
     ]
    }
   ],
   "source": [
    "# Dados brutos\n",
    "qtd_periodos = 12\n",
    "estoque_inicial = 300\n",
    "estoque_final = 300\n",
    "custo_setup = 500\n",
    "custo_estoque = 2\n",
    "m_grande = 9999\n",
    "vet_demandas = [185, 250, 0, 120, 150, 200, 0, 0, 180, 260, 0, 140]\n",
    "vet_recursos = [30, 30, 30, 40, 40, 40, 40, 50, 50, 50, 50, 50]\n",
    "recurso_unid = 0.2\n",
    "qtd_periodos = len(vet_demandas)\n",
    "print(qtd_periodos)"
   ]
  },
  {
   "cell_type": "code",
   "execution_count": 12,
   "metadata": {},
   "outputs": [
    {
     "name": "stdout",
     "output_type": "stream",
     "text": [
      "['T1', 'T2', 'T3', 'T4', 'T5', 'T6', 'T7', 'T8', 'T9', 'T10', 'T11', 'T12']\n"
     ]
    }
   ],
   "source": [
    "periodos = [\"T{}\".format(t+1) for t in range(qtd_periodos)]\n",
    "\n",
    "print(periodos)\n",
    "demandas = dict()\n",
    "for t, per in enumerate(periodos):\n",
    "    demandas[per] = vet_demandas[t]\n",
    "\n",
    "# Dicionário de recursos\n",
    "recursos = dict()\n",
    "for t, per in enumerate(periodos):\n",
    "    recursos[per] = vet_recursos[t]\n",
    "    "
   ]
  },
  {
   "cell_type": "code",
   "execution_count": 13,
   "metadata": {},
   "outputs": [
    {
     "name": "stdout",
     "output_type": "stream",
     "text": [
      "Gurobi Optimizer version 9.1.2 build v9.1.2rc0 (win64)\n",
      "Thread count: 2 physical cores, 4 logical processors, using up to 4 threads\n",
      "Optimize a model with 25 rows, 36 columns and 60 nonzeros\n",
      "Model fingerprint: 0x468fa3be\n",
      "Variable types: 0 continuous, 36 integer (12 binary)\n",
      "Coefficient statistics:\n",
      "  Matrix range     [2e-01, 5e+01]\n",
      "  Objective range  [2e+00, 5e+02]\n",
      "  Bounds range     [1e+00, 1e+00]\n",
      "  RHS range        [1e+02, 3e+02]\n",
      "Found heuristic solution: objective 5230.0000000\n",
      "Presolve removed 8 rows and 8 columns\n",
      "Presolve time: 0.00s\n",
      "Presolved: 17 rows, 28 columns, 44 nonzeros\n",
      "Variable types: 0 continuous, 28 integer (12 binary)\n",
      "\n",
      "Root relaxation: objective 4.615000e+03, 16 iterations, 0.00 seconds\n",
      "\n",
      "    Nodes    |    Current Node    |     Objective Bounds      |     Work\n",
      " Expl Unexpl |  Obj  Depth IntInf | Incumbent    BestBd   Gap | It/Node Time\n",
      "\n",
      "     0     0     cutoff    0      5230.00000 5230.00000  0.00%     -    0s\n",
      "\n",
      "Explored 0 nodes (21 simplex iterations) in 0.07 seconds\n",
      "Thread count was 4 (of 4 available processors)\n",
      "\n",
      "Solution count 1: 5230 \n",
      "\n",
      "Optimal solution found (tolerance 1.00e-04)\n",
      "Best objective 5.230000000000e+03, best bound 5.230000000000e+03, gap 0.0000%\n"
     ]
    }
   ],
   "source": [
    "#Modelo de Programação Linear\n",
    "m=gp.Model()\n",
    "\n",
    "#variaveis de decisão \n",
    "producao = m.addVars(periodos, vtype = gp.GRB.INTEGER)\n",
    "estoque = m.addVars(periodos, vtype =gp.GRB.INTEGER )\n",
    "setup = m.addVars (periodos, vtype = gp.GRB.BINARY)\n",
    "\n",
    "#Função Objetivo\n",
    "m.setObjective(gp.quicksum(setup[t]*custo_setup + estoque[t]*custo_estoque for t in periodos ), sense = gp.GRB.MINIMIZE)\n",
    "\n",
    "#Restrição para o Periodo 1\n",
    "m.addConstr(producao[\"T1\"] + estoque_inicial - demandas[\"T1\"] == estoque[\"T1\"])\n",
    "\n",
    "m.addConstrs(producao[t] + estoque[periodos[idx_t]] - demandas[t] == estoque[t] for idx_t, t in enumerate(periodos[1:]))\n",
    "\n",
    "#Restrição que Garante a que o Total de Recursos por período não será excedido\n",
    "m.addConstrs(recurso_unid * producao[t] <= recursos[t]*setup[t] for t in periodos)\n",
    "\n",
    "m.addConstr(estoque[periodos[-1]]==estoque_final)\n",
    "\n",
    "m.optimize()"
   ]
  },
  {
   "cell_type": "code",
   "execution_count": 14,
   "metadata": {},
   "outputs": [
    {
     "name": "stdout",
     "output_type": "stream",
     "text": [
      "Produzir: 0 unidades (estoque: 115 unid)\n",
      "Produzir: 135 unidades (estoque: 0 unid)\n",
      "Produzir: 0 unidades (estoque: 0 unid)\n",
      "Produzir: 120 unidades (estoque: 0 unid)\n",
      "Produzir: 150 unidades (estoque: 0 unid)\n",
      "Produzir: 200 unidades (estoque: 0 unid)\n",
      "Produzir: 0 unidades (estoque: 0 unid)\n",
      "Produzir: 0 unidades (estoque: 0 unid)\n",
      "Produzir: 190 unidades (estoque: 10 unid)\n",
      "Produzir: 250 unidades (estoque: 0 unid)\n",
      "Produzir: 190 unidades (estoque: 190 unid)\n",
      "Produzir: 250 unidades (estoque: 300 unid)\n"
     ]
    }
   ],
   "source": [
    "# Imprime a solução\n",
    "for t in periodos:\n",
    "    prod = round(producao[t].X)\n",
    "    est = round(estoque[t].X)\n",
    "    print(\"Produzir: {} unidades (estoque: {} unid)\".format(prod, est))"
   ]
  },
  {
   "cell_type": "code",
   "execution_count": 15,
   "metadata": {},
   "outputs": [
    {
     "name": "stdout",
     "output_type": "stream",
     "text": [
      "Periodo T1 usou 0.0 de recursos\n",
      "Periodo T2 usou 27.0 de recursos\n",
      "Periodo T3 usou 0.0 de recursos\n",
      "Periodo T4 usou 24.0 de recursos\n",
      "Periodo T5 usou 30.0 de recursos\n",
      "Periodo T6 usou 40.0 de recursos\n",
      "Periodo T7 usou 0.0 de recursos\n",
      "Periodo T8 usou 0.0 de recursos\n",
      "Periodo T9 usou 38.0 de recursos\n",
      "Periodo T10 usou 50.0 de recursos\n",
      "Periodo T11 usou 38.0 de recursos\n",
      "Periodo T12 usou 50.0 de recursos\n"
     ]
    }
   ],
   "source": [
    "#Imprime a Quantidade de Recursos utilizados\n",
    "\n",
    "for t in periodos:\n",
    "    usado = round (producao[t].X)*recurso_unid\n",
    "    print(\"Periodo {} usou {} de recursos\".format(t, usado))"
   ]
  },
  {
   "cell_type": "code",
   "execution_count": null,
   "metadata": {},
   "outputs": [],
   "source": []
  }
 ],
 "metadata": {
  "kernelspec": {
   "display_name": "Python 3",
   "language": "python",
   "name": "python3"
  },
  "language_info": {
   "codemirror_mode": {
    "name": "ipython",
    "version": 3
   },
   "file_extension": ".py",
   "mimetype": "text/x-python",
   "name": "python",
   "nbconvert_exporter": "python",
   "pygments_lexer": "ipython3",
   "version": "3.8.5"
  }
 },
 "nbformat": 4,
 "nbformat_minor": 4
}

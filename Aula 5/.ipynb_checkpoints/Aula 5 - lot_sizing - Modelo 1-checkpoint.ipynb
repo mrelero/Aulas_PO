{
 "cells": [
  {
   "cell_type": "code",
   "execution_count": 1,
   "metadata": {},
   "outputs": [],
   "source": [
    "import gurobipy as gp"
   ]
  },
  {
   "cell_type": "code",
   "execution_count": 3,
   "metadata": {},
   "outputs": [
    {
     "name": "stdout",
     "output_type": "stream",
     "text": [
      "12\n"
     ]
    }
   ],
   "source": [
    "# Dados brutos\n",
    "qtd_periodos = 12\n",
    "estoque_inicial = 300\n",
    "estoque_final = 300\n",
    "custo_setup = 500\n",
    "custo_estoque = 2\n",
    "m_grande = 9999\n",
    "vet_demandas = [185, 250, 0, 120, 150, 200, 0, 0, 180, 260, 0, 140]\n",
    "\n",
    "qtd_periodos = len(vet_demandas)\n",
    "print(qtd_periodos)"
   ]
  },
  {
   "cell_type": "code",
   "execution_count": 9,
   "metadata": {},
   "outputs": [
    {
     "name": "stdout",
     "output_type": "stream",
     "text": [
      "['T1', 'T2', 'T3', 'T4', 'T5', 'T6', 'T7', 'T8', 'T9', 'T10', 'T11', 'T12']\n",
      "185\n"
     ]
    }
   ],
   "source": [
    "periodos = [\"T{}\".format(t+1) for t in range(qtd_periodos)]\n",
    "\n",
    "print(periodos)\n",
    "demandas = dict()\n",
    "for t, per in enumerate(periodos):\n",
    "    demandas[per] = vet_demandas[t]\n"
   ]
  },
  {
   "cell_type": "code",
   "execution_count": 26,
   "metadata": {},
   "outputs": [
    {
     "name": "stdout",
     "output_type": "stream",
     "text": [
      "Gurobi Optimizer version 9.1.2 build v9.1.2rc0 (win64)\n",
      "Thread count: 2 physical cores, 4 logical processors, using up to 4 threads\n",
      "Optimize a model with 25 rows, 36 columns and 60 nonzeros\n",
      "Model fingerprint: 0xe3c55a9c\n",
      "Variable types: 0 continuous, 36 integer (12 binary)\n",
      "Coefficient statistics:\n",
      "  Matrix range     [1e+00, 1e+04]\n",
      "  Objective range  [2e+00, 5e+02]\n",
      "  Bounds range     [1e+00, 1e+00]\n",
      "  RHS range        [1e+02, 3e+02]\n",
      "Found heuristic solution: objective 4330.0000000\n",
      "Presolve removed 6 rows and 6 columns\n",
      "Presolve time: 0.04s\n",
      "Presolved: 19 rows, 30 columns, 48 nonzeros\n",
      "Variable types: 0 continuous, 30 integer (12 binary)\n",
      "\n",
      "Root relaxation: objective 1.861454e+03, 11 iterations, 0.01 seconds\n",
      "\n",
      "    Nodes    |    Current Node    |     Objective Bounds      |     Work\n",
      " Expl Unexpl |  Obj  Depth IntInf | Incumbent    BestBd   Gap | It/Node Time\n",
      "\n",
      "     0     0 1861.45421    0    6 4330.00000 1861.45421  57.0%     -    0s\n",
      "H    0     0                    4230.0000000 1861.45421  56.0%     -    0s\n",
      "     0     0 4078.18311    0    7 4230.00000 4078.18311  3.59%     -    0s\n",
      "H    0     0                    4210.0000000 4078.18311  3.13%     -    0s\n",
      "     0     0 4079.22107    0    7 4210.00000 4079.22107  3.11%     -    0s\n",
      "*    0     0               0    4130.0000000 4130.00000  0.00%     -    0s\n",
      "\n",
      "Cutting planes:\n",
      "  Gomory: 3\n",
      "  Implied bound: 7\n",
      "  Clique: 1\n",
      "  MIR: 2\n",
      "  Flow cover: 5\n",
      "  Relax-and-lift: 1\n",
      "\n",
      "Explored 1 nodes (21 simplex iterations) in 0.24 seconds\n",
      "Thread count was 4 (of 4 available processors)\n",
      "\n",
      "Solution count 4: 4130 4210 4230 4330 \n",
      "\n",
      "Optimal solution found (tolerance 1.00e-04)\n",
      "Best objective 4.130000000000e+03, best bound 4.130000000000e+03, gap 0.0000%\n"
     ]
    }
   ],
   "source": [
    "#Modelo de Programação Linear\n",
    "m=gp.Model()\n",
    "\n",
    "#variaveis de decisão \n",
    "producao = m.addVars(periodos, vtype = gp.GRB.INTEGER)\n",
    "estoque = m.addVars(periodos, vtype =gp.GRB.INTEGER )\n",
    "setup = m.addVars (periodos, vtype = gp.GRB.BINARY)\n",
    "\n",
    "#Função Objetivo\n",
    "m.setObjective(gp.quicksum(setup[t]*custo_setup + estoque[t]*custo_estoque for t in periodos ), sense = gp.GRB.MINIMIZE)\n",
    "\n",
    "#Restrição para o Periodo 1\n",
    "m.addConstr(producao[\"T1\"] + estoque_inicial - demandas[\"T1\"] == estoque[\"T1\"])\n",
    "\n",
    "m.addConstrs(producao[t] + estoque[periodos[idx_t]] - demandas[t] == estoque[t] for idx_t, t in enumerate(periodos[1:]))\n",
    "\n",
    "#Restrição que Garante a Realização de Setups\n",
    "m.addConstrs(producao[t] <= m_grande*setup[t] for t in periodos)\n",
    "\n",
    "m.addConstr(estoque[periodos[-1]]==estoque_final)\n",
    "\n",
    "m.optimize()"
   ]
  },
  {
   "cell_type": "code",
   "execution_count": 27,
   "metadata": {},
   "outputs": [
    {
     "name": "stdout",
     "output_type": "stream",
     "text": [
      "Produzir: 0 unidades (estoque: 115 unid)\n",
      "Produzir: 135 unidades (estoque: 0 unid)\n",
      "Produzir: 0 unidades (estoque: 0 unid)\n",
      "Produzir: 270 unidades (estoque: 150 unid)\n",
      "Produzir: 0 unidades (estoque: 0 unid)\n",
      "Produzir: 200 unidades (estoque: 0 unid)\n",
      "Produzir: 0 unidades (estoque: 0 unid)\n",
      "Produzir: 0 unidades (estoque: 0 unid)\n",
      "Produzir: 180 unidades (estoque: 0 unid)\n",
      "Produzir: 260 unidades (estoque: 0 unid)\n",
      "Produzir: 0 unidades (estoque: 0 unid)\n",
      "Produzir: 440 unidades (estoque: 300 unid)\n"
     ]
    }
   ],
   "source": [
    "# Imprime a solução\n",
    "for t in periodos:\n",
    "    prod = round(producao[t].X)\n",
    "    est = round(estoque[t].X)\n",
    "    print(\"Produzir: {} unidades (estoque: {} unid)\".format(prod, est))"
   ]
  },
  {
   "cell_type": "code",
   "execution_count": null,
   "metadata": {},
   "outputs": [],
   "source": []
  }
 ],
 "metadata": {
  "kernelspec": {
   "display_name": "Python 3",
   "language": "python",
   "name": "python3"
  },
  "language_info": {
   "codemirror_mode": {
    "name": "ipython",
    "version": 3
   },
   "file_extension": ".py",
   "mimetype": "text/x-python",
   "name": "python",
   "nbconvert_exporter": "python",
   "pygments_lexer": "ipython3",
   "version": "3.8.5"
  }
 },
 "nbformat": 4,
 "nbformat_minor": 4
}

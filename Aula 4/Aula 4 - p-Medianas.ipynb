{
 "cells": [
  {
   "cell_type": "code",
   "execution_count": 20,
   "metadata": {},
   "outputs": [],
   "source": [
    "import gurobipy as gp"
   ]
  },
  {
   "cell_type": "code",
   "execution_count": 21,
   "metadata": {},
   "outputs": [],
   "source": [
    "# Dados brutos\n",
    "qtd_fabricas = 5\n",
    "qtd_clientes = 10\n",
    "valor_p = 2\n",
    "mat_custos = [\n",
    "    [684, 439, 441, 1078, 806, 557, 443, 356, 688, 322],\n",
    "    [441, 728, 822, 21, 440, 728, 1202, 1121, 934, 1077],\n",
    "    [791, 576, 574, 1197, 899, 692, 385, 322, 680, 306],\n",
    "    [700, 974, 1059, 275, 675, 954, 1458, 1380, 732, 1337],\n",
    "    [217, 375, 483, 641, 324, 503, 558, 470, 859, 424]]"
   ]
  },
  {
   "cell_type": "code",
   "execution_count": 22,
   "metadata": {},
   "outputs": [
    {
     "name": "stdout",
     "output_type": "stream",
     "text": [
      "['F1', 'F2', 'F3', 'F4', 'F5']\n",
      "['C1', 'C2', 'C3', 'C4', 'C5', 'C6', 'C7', 'C8', 'C9', 'C10']\n"
     ]
    }
   ],
   "source": [
    "fabricas = [\"F{}\".format(i+1) for i in range (qtd_fabricas)]\n",
    "clientes = [\"C{}\".format(i+1) for i in range (qtd_clientes)]\n",
    "print(fabricas)\n",
    "print(clientes)\n"
   ]
  },
  {
   "cell_type": "code",
   "execution_count": 23,
   "metadata": {},
   "outputs": [
    {
     "name": "stdout",
     "output_type": "stream",
     "text": [
      "684\n"
     ]
    }
   ],
   "source": [
    "#Dicionario com os custos\n",
    "custos = dict()\n",
    "\n",
    "for i, fab in enumerate(fabricas):\n",
    "    for j, cli in enumerate(clientes):\n",
    "        custos[fab,cli] = mat_custos[i][j]\n",
    "        \n",
    "print (custos['F1','C1'])"
   ]
  },
  {
   "cell_type": "code",
   "execution_count": 24,
   "metadata": {},
   "outputs": [
    {
     "name": "stdout",
     "output_type": "stream",
     "text": [
      "{('F1', 'C1'): 684, ('F1', 'C2'): 439, ('F1', 'C3'): 441, ('F1', 'C4'): 1078, ('F1', 'C5'): 806, ('F1', 'C6'): 557, ('F1', 'C7'): 443, ('F1', 'C8'): 356, ('F1', 'C9'): 688, ('F1', 'C10'): 322, ('F2', 'C1'): 441, ('F2', 'C2'): 728, ('F2', 'C3'): 822, ('F2', 'C4'): 21, ('F2', 'C5'): 440, ('F2', 'C6'): 728, ('F2', 'C7'): 1202, ('F2', 'C8'): 1121, ('F2', 'C9'): 934, ('F2', 'C10'): 1077, ('F3', 'C1'): 791, ('F3', 'C2'): 576, ('F3', 'C3'): 574, ('F3', 'C4'): 1197, ('F3', 'C5'): 899, ('F3', 'C6'): 692, ('F3', 'C7'): 385, ('F3', 'C8'): 322, ('F3', 'C9'): 680, ('F3', 'C10'): 306, ('F4', 'C1'): 700, ('F4', 'C2'): 974, ('F4', 'C3'): 1059, ('F4', 'C4'): 275, ('F4', 'C5'): 675, ('F4', 'C6'): 954, ('F4', 'C7'): 1458, ('F4', 'C8'): 1380, ('F4', 'C9'): 732, ('F4', 'C10'): 1337, ('F5', 'C1'): 217, ('F5', 'C2'): 375, ('F5', 'C3'): 483, ('F5', 'C4'): 641, ('F5', 'C5'): 324, ('F5', 'C6'): 503, ('F5', 'C7'): 558, ('F5', 'C8'): 470, ('F5', 'C9'): 859, ('F5', 'C10'): 424}\n"
     ]
    }
   ],
   "source": [
    "print (custos)"
   ]
  },
  {
   "cell_type": "code",
   "execution_count": 35,
   "metadata": {},
   "outputs": [
    {
     "name": "stdout",
     "output_type": "stream",
     "text": [
      "Gurobi Optimizer version 9.1.2 build v9.1.2rc0 (win64)\n",
      "Thread count: 2 physical cores, 4 logical processors, using up to 4 threads\n",
      "Optimize a model with 61 rows, 55 columns and 155 nonzeros\n",
      "Model fingerprint: 0xae49f5b2\n",
      "Variable types: 0 continuous, 55 integer (55 binary)\n",
      "Coefficient statistics:\n",
      "  Matrix range     [1e+00, 1e+00]\n",
      "  Objective range  [2e+01, 1e+03]\n",
      "  Bounds range     [1e+00, 1e+00]\n",
      "  RHS range        [1e+00, 2e+00]\n",
      "Found heuristic solution: objective 5748.0000000\n",
      "Presolve time: 0.03s\n",
      "Presolved: 61 rows, 55 columns, 155 nonzeros\n",
      "Variable types: 0 continuous, 55 integer (55 binary)\n",
      "\n",
      "Root relaxation: objective 4.148000e+03, 29 iterations, 0.01 seconds\n",
      "\n",
      "    Nodes    |    Current Node    |     Objective Bounds      |     Work\n",
      " Expl Unexpl |  Obj  Depth IntInf | Incumbent    BestBd   Gap | It/Node Time\n",
      "\n",
      "*    0     0               0    4148.0000000 4148.00000  0.00%     -    0s\n",
      "\n",
      "Explored 0 nodes (29 simplex iterations) in 0.12 seconds\n",
      "Thread count was 4 (of 4 available processors)\n",
      "\n",
      "Solution count 2: 4148 5748 \n",
      "\n",
      "Optimal solution found (tolerance 1.00e-04)\n",
      "Best objective 4.148000000000e+03, best bound 4.148000000000e+03, gap 0.0000%\n"
     ]
    }
   ],
   "source": [
    "m = gp.Model()\n",
    "\n",
    "#Variaveis de Decisão\n",
    "\n",
    "var_x = m.addVars(fabricas, clientes, vtype = gp.GRB.BINARY) \n",
    "var_y = m.addVars(fabricas, vtype = gp.GRB.BINARY)\n",
    "\n",
    "#Restrição 1: Cada cliente tem que estar em 1 Fábrica\n",
    "c1 = m.addConstrs (gp.quicksum(var_x[i, j] for i in fabricas) == 1 for j in clientes)\n",
    "#Resctrição 2: Garante abertura de até p fábricas\n",
    "c2 = m.addConstr(gp.quicksum(var_y[i] for i in fabricas) == valor_p)\n",
    "#Restrição 3: Garante a designição de clientes\n",
    "c3 = m.addConstrs(var_x[i, j] - var_y[i] <= 0 for i in fabricas for j in clientes)\n",
    "\n",
    "custo_total = gp.quicksum(custos[i,j]*var_x[i,j]for i in fabricas for j in clientes)\n",
    "c4 = m.addConstrs(gp.quicksum(custos[i,j]*var_x[i,j]for i in fabricas) - var_R <=0 for j in clientes)\n",
    "#cria uma expressão que calcula o custo  total\n",
    "m.setObjective(custo_total , sense = gp.GRB.MINIMIZE)\n",
    "m.optimize()"
   ]
  },
  {
   "cell_type": "code",
   "execution_count": 36,
   "metadata": {},
   "outputs": [
    {
     "name": "stdout",
     "output_type": "stream",
     "text": [
      "F1\n",
      "F2\n"
     ]
    }
   ],
   "source": [
    "#Verifica quantas fábricas foram abertas\n",
    "for i in fabricas:\n",
    "    if (round(var_y[i].X) == 1):\n",
    "        print(i)"
   ]
  },
  {
   "cell_type": "code",
   "execution_count": 39,
   "metadata": {},
   "outputs": [
    {
     "name": "stdout",
     "output_type": "stream",
     "text": [
      "C2 C3 C6 C7 C8 C9 C10  \n",
      "C1 C4 C5  \n"
     ]
    }
   ],
   "source": [
    "for i in fabricas:\n",
    "    if round(var_y[i].X) == 1:\n",
    "        \n",
    "        for j in clientes:\n",
    "            if round(var_x[i,j].X) == 1:\n",
    "                print(j + ' ', end = '')\n",
    "        print(' ')"
   ]
  },
  {
   "cell_type": "code",
   "execution_count": null,
   "metadata": {},
   "outputs": [],
   "source": []
  }
 ],
 "metadata": {
  "kernelspec": {
   "display_name": "Python 3",
   "language": "python",
   "name": "python3"
  },
  "language_info": {
   "codemirror_mode": {
    "name": "ipython",
    "version": 3
   },
   "file_extension": ".py",
   "mimetype": "text/x-python",
   "name": "python",
   "nbconvert_exporter": "python",
   "pygments_lexer": "ipython3",
   "version": "3.8.5"
  }
 },
 "nbformat": 4,
 "nbformat_minor": 4
}

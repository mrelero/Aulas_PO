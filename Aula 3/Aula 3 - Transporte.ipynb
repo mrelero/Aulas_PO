{
 "cells": [
  {
   "cell_type": "code",
   "execution_count": 46,
   "metadata": {},
   "outputs": [],
   "source": [
    "import gurobipy as gp"
   ]
  },
  {
   "cell_type": "code",
   "execution_count": 47,
   "metadata": {
    "scrolled": true
   },
   "outputs": [
    {
     "name": "stdout",
     "output_type": "stream",
     "text": [
      "[[12, 17, 35, 28], [25, 26, 15, 30], [39, 20, 18, 37], [17, 25, 20, 30], [38, 30, 12, 28], [40, 25, 42, 36], [8, 14, 27, 16], [25, 20, 26, 24], [13, 15, 19, 32]]\n"
     ]
    }
   ],
   "source": [
    "# Dados brutos\n",
    "qtd_fabricas = 4\n",
    "qtd_clientes = 9\n",
    "lista_ofertas = [140, 160, 200, 190]\n",
    "lista_demandas = [50, 80, 30, 50, 100, 90, 20, 70, 120]\n",
    "custos_transporte = [\n",
    "    [12, 17, 35, 28],\n",
    "    [25, 26, 15, 30],\n",
    "    [39, 20, 18, 37],\n",
    "    [17, 25, 20, 30],\n",
    "    [38, 30, 12, 28],\n",
    "    [40, 25, 42, 36],\n",
    "    [8, 14, 27, 16],\n",
    "    [25, 20, 26, 24],\n",
    "    [13, 15, 19, 32]]\n",
    "\n",
    "print(custos_transporte)"
   ]
  },
  {
   "cell_type": "code",
   "execution_count": 48,
   "metadata": {},
   "outputs": [],
   "source": [
    "fabricas = [\"Fabricas_{}\".format(i + 1)for i in range(qtd_fabricas)]\n",
    "clientes = [\"Cliente_{}\".format(i + 1) for i in range(qtd_clientes)]\n"
   ]
  },
  {
   "cell_type": "code",
   "execution_count": 49,
   "metadata": {},
   "outputs": [
    {
     "name": "stdout",
     "output_type": "stream",
     "text": [
      "{('Fabricas_1', 'Cliente_1'): 12, ('Fabricas_1', 'Cliente_2'): 25, ('Fabricas_1', 'Cliente_3'): 39, ('Fabricas_1', 'Cliente_4'): 17, ('Fabricas_1', 'Cliente_5'): 38, ('Fabricas_1', 'Cliente_6'): 40, ('Fabricas_1', 'Cliente_7'): 8, ('Fabricas_1', 'Cliente_8'): 25, ('Fabricas_1', 'Cliente_9'): 13, ('Fabricas_2', 'Cliente_1'): 17, ('Fabricas_2', 'Cliente_2'): 26, ('Fabricas_2', 'Cliente_3'): 20, ('Fabricas_2', 'Cliente_4'): 25, ('Fabricas_2', 'Cliente_5'): 30, ('Fabricas_2', 'Cliente_6'): 25, ('Fabricas_2', 'Cliente_7'): 14, ('Fabricas_2', 'Cliente_8'): 20, ('Fabricas_2', 'Cliente_9'): 15, ('Fabricas_3', 'Cliente_1'): 35, ('Fabricas_3', 'Cliente_2'): 15, ('Fabricas_3', 'Cliente_3'): 18, ('Fabricas_3', 'Cliente_4'): 20, ('Fabricas_3', 'Cliente_5'): 12, ('Fabricas_3', 'Cliente_6'): 42, ('Fabricas_3', 'Cliente_7'): 27, ('Fabricas_3', 'Cliente_8'): 26, ('Fabricas_3', 'Cliente_9'): 19, ('Fabricas_4', 'Cliente_1'): 28, ('Fabricas_4', 'Cliente_2'): 30, ('Fabricas_4', 'Cliente_3'): 37, ('Fabricas_4', 'Cliente_4'): 30, ('Fabricas_4', 'Cliente_5'): 28, ('Fabricas_4', 'Cliente_6'): 36, ('Fabricas_4', 'Cliente_7'): 16, ('Fabricas_4', 'Cliente_8'): 24, ('Fabricas_4', 'Cliente_9'): 32}\n"
     ]
    }
   ],
   "source": [
    "ofertas = dict()\n",
    "\n",
    "for i in range(qtd_fabricas):\n",
    "    ofertas[fabricas[i]] = lista_ofertas[i]\n",
    "\n",
    "demandas = dict()\n",
    "for i in range(qtd_clientes):\n",
    "    demandas[clientes[i]] = lista_demandas[i]\n",
    "    \n",
    "custos = dict()\n",
    "for i in range(qtd_fabricas):\n",
    "    for j in range(qtd_clientes):\n",
    "        custos[fabricas[i],clientes[j]] = custos_transporte[j][i]\n",
    "print(custos)"
   ]
  },
  {
   "cell_type": "code",
   "execution_count": 50,
   "metadata": {},
   "outputs": [
    {
     "name": "stdout",
     "output_type": "stream",
     "text": [
      "Gurobi Optimizer version 9.1.2 build v9.1.2rc0 (win64)\n",
      "Thread count: 2 physical cores, 4 logical processors, using up to 4 threads\n",
      "Optimize a model with 13 rows, 36 columns and 72 nonzeros\n",
      "Model fingerprint: 0xe9a4dfd9\n",
      "Coefficient statistics:\n",
      "  Matrix range     [1e+00, 1e+00]\n",
      "  Objective range  [8e+00, 4e+01]\n",
      "  Bounds range     [0e+00, 0e+00]\n",
      "  RHS range        [2e+01, 2e+02]\n",
      "Presolve time: 0.02s\n",
      "Presolved: 13 rows, 36 columns, 72 nonzeros\n",
      "\n",
      "Iteration    Objective       Primal Inf.    Dual Inf.      Time\n",
      "       0    9.7600000e+03   1.100000e+02   0.000000e+00      0s\n",
      "       5    1.0600000e+04   0.000000e+00   0.000000e+00      0s\n",
      "\n",
      "Solved in 5 iterations and 0.04 seconds\n",
      "Optimal objective  1.060000000e+04\n"
     ]
    }
   ],
   "source": [
    "m = gp.Model()\n",
    "\n",
    "#\n",
    "transporte = m.addVars(fabricas, clientes)\n",
    "\n",
    "#Restricoes de Offerta\n",
    "c_ofertas = m.addConstrs(gp.quicksum(transporte[i,j] for j in clientes) <= ofertas[i] for i in fabricas)\n",
    "#Restricoes de Demandas\n",
    "c_demandas = m.addConstrs(gp.quicksum(transporte[i,j] for i in fabricas) == demandas[j] for j in clientes)\n",
    "\n",
    "\n",
    "m.setObjective(gp.quicksum(transporte[i, j]* custos[i, j] for i in fabricas for j in clientes), sense = gp.GRB.MINIMIZE)\n",
    "m.optimize()"
   ]
  },
  {
   "cell_type": "code",
   "execution_count": 51,
   "metadata": {},
   "outputs": [
    {
     "data": {
      "text/plain": [
       "10600.0"
      ]
     },
     "execution_count": 51,
     "metadata": {},
     "output_type": "execute_result"
    }
   ],
   "source": [
    "m.objVal"
   ]
  },
  {
   "cell_type": "code",
   "execution_count": 54,
   "metadata": {},
   "outputs": [
    {
     "name": "stdout",
     "output_type": "stream",
     "text": [
      "Fabricas_1 fornece 50.0 para Cliente_1\n",
      "Fabricas_1 fornece 30.0 para Cliente_4\n",
      "Fabricas_1 fornece 60.0 para Cliente_9\n",
      "Fabricas_2 fornece 10.0 para Cliente_3\n",
      "Fabricas_2 fornece 90.0 para Cliente_6\n",
      "Fabricas_2 fornece 60.0 para Cliente_9\n",
      "Fabricas_3 fornece 80.0 para Cliente_2\n",
      "Fabricas_3 fornece 20.0 para Cliente_3\n",
      "Fabricas_3 fornece 100.0 para Cliente_5\n",
      "Fabricas_4 fornece 20.0 para Cliente_4\n",
      "Fabricas_4 fornece 20.0 para Cliente_7\n",
      "Fabricas_4 fornece 70.0 para Cliente_8\n",
      "\n",
      "\n"
     ]
    }
   ],
   "source": [
    "for fabrica in fabricas:\n",
    "    for cliente in clientes:\n",
    "        if transporte[fabrica, cliente].x != 0:\n",
    "            print(\"{} fornece {} para {}\".format(fabrica, transporte[fabrica, cliente].x, cliente))\n",
    "print(\"\\n\")"
   ]
  },
  {
   "cell_type": "code",
   "execution_count": 53,
   "metadata": {},
   "outputs": [
    {
     "name": "stdout",
     "output_type": "stream",
     "text": [
      "Fabricas_1: 0.0 livre\n",
      "Fabricas_2: 0.0 livre\n",
      "Fabricas_3: 0.0 livre\n",
      "Fabricas_4: 80.0 livre\n"
     ]
    }
   ],
   "source": [
    "for fabrica in fabricas:\n",
    "    print(\"{}: {} livre\".format(fabrica, c_ofertas[fabrica].Slack))"
   ]
  },
  {
   "cell_type": "code",
   "execution_count": null,
   "metadata": {},
   "outputs": [],
   "source": []
  }
 ],
 "metadata": {
  "kernelspec": {
   "display_name": "Python 3",
   "language": "python",
   "name": "python3"
  },
  "language_info": {
   "codemirror_mode": {
    "name": "ipython",
    "version": 3
   },
   "file_extension": ".py",
   "mimetype": "text/x-python",
   "name": "python",
   "nbconvert_exporter": "python",
   "pygments_lexer": "ipython3",
   "version": "3.8.5"
  }
 },
 "nbformat": 4,
 "nbformat_minor": 4
}

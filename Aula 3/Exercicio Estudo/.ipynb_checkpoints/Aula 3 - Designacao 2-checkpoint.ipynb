{
 "cells": [
  {
   "cell_type": "code",
   "execution_count": 1,
   "metadata": {},
   "outputs": [],
   "source": [
    "import gurobipy as gp"
   ]
  },
  {
   "cell_type": "code",
   "execution_count": 9,
   "metadata": {},
   "outputs": [],
   "source": [
    "qtd_disciplinas = 8\n",
    "qtd_professores = 5\n",
    "lista_custos = [[4, 9, 7, 7, 3], \n",
    "                [7, 2, 9, 1, 5], \n",
    "                [2, 7, 4, 9, 4], \n",
    "                [9, 7, 5, 1, 2], \n",
    "                [6, 3, 8, 8, 5], \n",
    "                [7, 8, 9, 5, 7], \n",
    "                [4, 5, 8, 6, 9], \n",
    "                [8, 8, 6, 4, 8]] "
   ]
  },
  {
   "cell_type": "code",
   "execution_count": 11,
   "metadata": {},
   "outputs": [
    {
     "name": "stdout",
     "output_type": "stream",
     "text": [
      "['Professores_1', 'Professores_2', 'Professores_3', 'Professores_4', 'Professores_5']\n",
      "['Disciplinas_1', 'Disciplinas_2', 'Disciplinas_3', 'Disciplinas_4', 'Disciplinas_5', 'Disciplinas_6', 'Disciplinas_7', 'Disciplinas_8']\n"
     ]
    }
   ],
   "source": [
    "professores = list()\n",
    "disciplinas = list()\n",
    "professores = [\"Professores_{}\".format(1+i) for i in range(qtd_professores)]\n",
    "disciplinas = [\"Disciplinas_{}\".format(1+i) for i in range(qtd_disciplinas)]\n",
    "\n",
    "print (professores)\n",
    "print (disciplinas)\n"
   ]
  },
  {
   "cell_type": "code",
   "execution_count": null,
   "metadata": {},
   "outputs": [],
   "source": []
  }
 ],
 "metadata": {
  "kernelspec": {
   "display_name": "Python 3",
   "language": "python",
   "name": "python3"
  },
  "language_info": {
   "codemirror_mode": {
    "name": "ipython",
    "version": 3
   },
   "file_extension": ".py",
   "mimetype": "text/x-python",
   "name": "python",
   "nbconvert_exporter": "python",
   "pygments_lexer": "ipython3",
   "version": "3.8.5"
  }
 },
 "nbformat": 4,
 "nbformat_minor": 4
}

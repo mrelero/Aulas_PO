{
 "cells": [
  {
   "cell_type": "code",
   "execution_count": 1,
   "metadata": {},
   "outputs": [],
   "source": [
    "import gurobipy as gp"
   ]
  },
  {
   "cell_type": "code",
   "execution_count": 16,
   "metadata": {},
   "outputs": [
    {
     "ename": "IndexError",
     "evalue": "list index out of range",
     "output_type": "error",
     "traceback": [
      "\u001b[1;31m---------------------------------------------------------------------------\u001b[0m",
      "\u001b[1;31mIndexError\u001b[0m                                Traceback (most recent call last)",
      "\u001b[1;32m<ipython-input-16-5ceeb760f294>\u001b[0m in \u001b[0;36m<module>\u001b[1;34m\u001b[0m\n\u001b[0;32m      9\u001b[0m                 \u001b[1;33m[\u001b[0m\u001b[1;36m4\u001b[0m\u001b[1;33m,\u001b[0m \u001b[1;36m5\u001b[0m\u001b[1;33m,\u001b[0m \u001b[1;36m8\u001b[0m\u001b[1;33m,\u001b[0m \u001b[1;36m6\u001b[0m\u001b[1;33m,\u001b[0m \u001b[1;36m9\u001b[0m\u001b[1;33m]\u001b[0m\u001b[1;33m,\u001b[0m\u001b[1;33m\u001b[0m\u001b[1;33m\u001b[0m\u001b[0m\n\u001b[0;32m     10\u001b[0m                 [8, 8, 6, 4, 8]] \n\u001b[1;32m---> 11\u001b[1;33m \u001b[0mprint\u001b[0m\u001b[1;33m(\u001b[0m\u001b[0mlista_custos\u001b[0m\u001b[1;33m[\u001b[0m\u001b[1;36m4\u001b[0m\u001b[1;33m]\u001b[0m\u001b[1;33m[\u001b[0m\u001b[1;36m7\u001b[0m\u001b[1;33m]\u001b[0m\u001b[1;33m)\u001b[0m\u001b[1;33m\u001b[0m\u001b[1;33m\u001b[0m\u001b[0m\n\u001b[0m",
      "\u001b[1;31mIndexError\u001b[0m: list index out of range"
     ]
    }
   ],
   "source": [
    "qtd_disciplinas = 8\n",
    "qtd_professores = 5\n",
    "lista_custos = [[4, 9, 7, 7, 3], \n",
    "                [7, 2, 9, 1, 5], \n",
    "                [2, 7, 4, 9, 4], \n",
    "                [9, 7, 5, 1, 2], \n",
    "                [6, 3, 8, 8, 5], \n",
    "                [7, 8, 9, 5, 7], \n",
    "                [4, 5, 8, 6, 9], \n",
    "                [8, 8, 6, 4, 8]] \n",
    "print(lista_custos[4][7])"
   ]
  },
  {
   "cell_type": "code",
   "execution_count": 11,
   "metadata": {},
   "outputs": [
    {
     "name": "stdout",
     "output_type": "stream",
     "text": [
      "['Professores_1', 'Professores_2', 'Professores_3', 'Professores_4', 'Professores_5']\n",
      "['Disciplinas_1', 'Disciplinas_2', 'Disciplinas_3', 'Disciplinas_4', 'Disciplinas_5', 'Disciplinas_6', 'Disciplinas_7', 'Disciplinas_8']\n"
     ]
    }
   ],
   "source": [
    "professores = list()\n",
    "disciplinas = list()\n",
    "professores = [\"Professores_{}\".format(1+i) for i in range(qtd_professores)]\n",
    "disciplinas = [\"Disciplinas_{}\".format(1+i) for i in range(qtd_disciplinas)]\n",
    "\n",
    "print (professores)\n",
    "print (disciplinas)\n"
   ]
  },
  {
   "cell_type": "code",
   "execution_count": 19,
   "metadata": {},
   "outputs": [
    {
     "name": "stdout",
     "output_type": "stream",
     "text": [
      "{('Disciplinas_1', 'Professores_1'): 4, ('Disciplinas_1', 'Professores_2'): 9, ('Disciplinas_1', 'Professores_3'): 7, ('Disciplinas_1', 'Professores_4'): 7, ('Disciplinas_1', 'Professores_5'): 3, ('Disciplinas_2', 'Professores_1'): 7, ('Disciplinas_2', 'Professores_2'): 2, ('Disciplinas_2', 'Professores_3'): 9, ('Disciplinas_2', 'Professores_4'): 1, ('Disciplinas_2', 'Professores_5'): 5, ('Disciplinas_3', 'Professores_1'): 2, ('Disciplinas_3', 'Professores_2'): 7, ('Disciplinas_3', 'Professores_3'): 4, ('Disciplinas_3', 'Professores_4'): 9, ('Disciplinas_3', 'Professores_5'): 4, ('Disciplinas_4', 'Professores_1'): 9, ('Disciplinas_4', 'Professores_2'): 7, ('Disciplinas_4', 'Professores_3'): 5, ('Disciplinas_4', 'Professores_4'): 1, ('Disciplinas_4', 'Professores_5'): 2, ('Disciplinas_5', 'Professores_1'): 6, ('Disciplinas_5', 'Professores_2'): 3, ('Disciplinas_5', 'Professores_3'): 8, ('Disciplinas_5', 'Professores_4'): 8, ('Disciplinas_5', 'Professores_5'): 5, ('Disciplinas_6', 'Professores_1'): 7, ('Disciplinas_6', 'Professores_2'): 8, ('Disciplinas_6', 'Professores_3'): 9, ('Disciplinas_6', 'Professores_4'): 5, ('Disciplinas_6', 'Professores_5'): 7, ('Disciplinas_7', 'Professores_1'): 4, ('Disciplinas_7', 'Professores_2'): 5, ('Disciplinas_7', 'Professores_3'): 8, ('Disciplinas_7', 'Professores_4'): 6, ('Disciplinas_7', 'Professores_5'): 9, ('Disciplinas_8', 'Professores_1'): 8, ('Disciplinas_8', 'Professores_2'): 8, ('Disciplinas_8', 'Professores_3'): 6, ('Disciplinas_8', 'Professores_4'): 4, ('Disciplinas_8', 'Professores_5'): 8}\n"
     ]
    }
   ],
   "source": [
    "custos = dict()\n",
    "\n",
    "for i, disc in enumerate (disciplinas):\n",
    "    for j, prof in enumerate (professores):\n",
    "        custos[disc, prof] = lista_custos[i][j]\n",
    "\n",
    "#print (custos)"
   ]
  },
  {
   "cell_type": "code",
   "execution_count": 21,
   "metadata": {},
   "outputs": [
    {
     "name": "stdout",
     "output_type": "stream",
     "text": [
      "Gurobi Optimizer version 9.1.2 build v9.1.2rc0 (win64)\n",
      "Thread count: 2 physical cores, 4 logical processors, using up to 4 threads\n",
      "Optimize a model with 13 rows, 40 columns and 80 nonzeros\n",
      "Model fingerprint: 0x748cc682\n",
      "Variable types: 0 continuous, 40 integer (40 binary)\n",
      "Coefficient statistics:\n",
      "  Matrix range     [1e+00, 1e+00]\n",
      "  Objective range  [1e+00, 9e+00]\n",
      "  Bounds range     [1e+00, 1e+00]\n",
      "  RHS range        [1e+00, 1e+00]\n",
      "Found heuristic solution: objective 32.0000000\n",
      "Presolve removed 13 rows and 40 columns\n",
      "Presolve time: 0.02s\n",
      "Presolve: All rows and columns removed\n",
      "\n",
      "Explored 0 nodes (0 simplex iterations) in 0.06 seconds\n",
      "Thread count was 1 (of 4 available processors)\n",
      "\n",
      "Solution count 2: 45 32 \n",
      "\n",
      "Optimal solution found (tolerance 1.00e-04)\n",
      "Best objective 4.500000000000e+01, best bound 4.500000000000e+01, gap 0.0000%\n",
      "Valor Objetivo: 45.0\n"
     ]
    }
   ],
   "source": [
    "m = gp.Model()\n",
    "\n",
    "#5º Adiciona as variaveis de decisão ao modelo\n",
    "\n",
    "designacoes = m.addVars(disciplinas, professores, vtype = gp.GRB.BINARY)\n",
    "#equipes - Rotulos de Equipes\n",
    "#projetos - Rotulos de Projetos\n",
    "\n",
    "#print (designacoes)\n",
    "#6º Cruar as restrições\n",
    "restr_disciplinas = m.addConstrs(gp.quicksum(designacoes[i, j] for j in professores)>= 0 for i in disciplinas)\n",
    "restr_professores = m.addConstrs(gp.quicksum(designacoes[i, j] for i in disciplinas)== 1 for j in professores)\n",
    "\n",
    "#print (restr_projetos)\n",
    "#print (restr_equipes)\n",
    "\n",
    "#7º Objetivo \n",
    "obj = m.setObjective( gp.quicksum(custos[i, j] * designacoes [i, j] for i in disciplinas for j in professores), sense = gp.GRB.MAXIMIZE)\n",
    "\n",
    "#8 Rodar o modelo\n",
    "m.optimize()\n",
    "m.setParam('LogToConsole',0)\n",
    "print(\"Valor Objetivo:\", m.objVal)"
   ]
  },
  {
   "cell_type": "code",
   "execution_count": null,
   "metadata": {},
   "outputs": [],
   "source": []
  }
 ],
 "metadata": {
  "kernelspec": {
   "display_name": "Python 3",
   "language": "python",
   "name": "python3"
  },
  "language_info": {
   "codemirror_mode": {
    "name": "ipython",
    "version": 3
   },
   "file_extension": ".py",
   "mimetype": "text/x-python",
   "name": "python",
   "nbconvert_exporter": "python",
   "pygments_lexer": "ipython3",
   "version": "3.8.5"
  }
 },
 "nbformat": 4,
 "nbformat_minor": 4
}

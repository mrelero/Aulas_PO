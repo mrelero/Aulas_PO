{
 "cells": [
  {
   "cell_type": "code",
   "execution_count": 2,
   "metadata": {},
   "outputs": [],
   "source": [
    "import gurobipy as gp"
   ]
  },
  {
   "cell_type": "code",
   "execution_count": 5,
   "metadata": {},
   "outputs": [
    {
     "name": "stdout",
     "output_type": "stream",
     "text": [
      "3\n"
     ]
    }
   ],
   "source": [
    "qtd_disciplinas = 8\n",
    "qtd_professores = 5\n",
    "lista_custos = [[4, 9, 7, 7, 3], \n",
    "                [7, 2, 9, 1, 5], \n",
    "                [2, 7, 4, 9, 4], \n",
    "                [9, 7, 5, 1, 2], \n",
    "                [6, 3, 8, 8, 5], \n",
    "                [7, 8, 9, 5, 7], \n",
    "                [4, 5, 8, 6, 9], \n",
    "                [8, 8, 6, 4, 8]] \n",
    "print(lista_custos[4][1])"
   ]
  },
  {
   "cell_type": "code",
   "execution_count": 6,
   "metadata": {},
   "outputs": [
    {
     "name": "stdout",
     "output_type": "stream",
     "text": [
      "['Professores_1', 'Professores_2', 'Professores_3', 'Professores_4', 'Professores_5']\n",
      "['Disciplinas_1', 'Disciplinas_2', 'Disciplinas_3', 'Disciplinas_4', 'Disciplinas_5', 'Disciplinas_6', 'Disciplinas_7', 'Disciplinas_8']\n"
     ]
    }
   ],
   "source": [
    "professores = list()\n",
    "disciplinas = list()\n",
    "professores = [\"Professores_{}\".format(1+i) for i in range(qtd_professores)]\n",
    "disciplinas = [\"Disciplinas_{}\".format(1+i) for i in range(qtd_disciplinas)]\n",
    "\n",
    "print (professores)\n",
    "print (disciplinas)\n"
   ]
  },
  {
   "cell_type": "code",
   "execution_count": 7,
   "metadata": {},
   "outputs": [],
   "source": [
    "custos = dict()\n",
    "\n",
    "for i, disc in enumerate (disciplinas):\n",
    "    for j, prof in enumerate (professores):\n",
    "        custos[disc, prof] = lista_custos[i][j]\n",
    "\n",
    "#print (custos)"
   ]
  },
  {
   "cell_type": "code",
   "execution_count": 8,
   "metadata": {},
   "outputs": [
    {
     "name": "stdout",
     "output_type": "stream",
     "text": [
      "Academic license - for non-commercial use only - expires 2021-07-17\n",
      "Using license file C:\\Users\\Usuario\\gurobi.lic\n",
      "Gurobi Optimizer version 9.1.2 build v9.1.2rc0 (win64)\n",
      "Thread count: 2 physical cores, 4 logical processors, using up to 4 threads\n",
      "Optimize a model with 13 rows, 40 columns and 80 nonzeros\n",
      "Model fingerprint: 0x748cc682\n",
      "Variable types: 0 continuous, 40 integer (40 binary)\n",
      "Coefficient statistics:\n",
      "  Matrix range     [1e+00, 1e+00]\n",
      "  Objective range  [1e+00, 9e+00]\n",
      "  Bounds range     [1e+00, 1e+00]\n",
      "  RHS range        [1e+00, 1e+00]\n",
      "Found heuristic solution: objective 32.0000000\n",
      "Presolve removed 13 rows and 40 columns\n",
      "Presolve time: 0.03s\n",
      "Presolve: All rows and columns removed\n",
      "\n",
      "Explored 0 nodes (0 simplex iterations) in 0.08 seconds\n",
      "Thread count was 1 (of 4 available processors)\n",
      "\n",
      "Solution count 2: 45 32 \n",
      "\n",
      "Optimal solution found (tolerance 1.00e-04)\n",
      "Best objective 4.500000000000e+01, best bound 4.500000000000e+01, gap 0.0000%\n",
      "Valor Objetivo: 45.0\n"
     ]
    }
   ],
   "source": [
    "m = gp.Model()\n",
    "\n",
    "#5º Adiciona as variaveis de decisão ao modelo\n",
    "\n",
    "designacoes = m.addVars(disciplinas, professores, vtype = gp.GRB.BINARY)\n",
    "#equipes - Rotulos de Equipes\n",
    "#projetos - Rotulos de Projetos\n",
    "\n",
    "#print (designacoes)\n",
    "#6º Cruar as restrições\n",
    "restr_disciplinas = m.addConstrs(gp.quicksum(designacoes[i, j] for j in professores)>= 0 for i in disciplinas)\n",
    "restr_professores = m.addConstrs(gp.quicksum(designacoes[i, j] for i in disciplinas)== 1 for j in professores)\n",
    "\n",
    "#print (restr_projetos)\n",
    "#print (restr_equipes)\n",
    "\n",
    "#7º Objetivo \n",
    "obj = m.setObjective( gp.quicksum(custos[i, j] * designacoes [i, j] for i in disciplinas for j in professores), sense = gp.GRB.MAXIMIZE)\n",
    "\n",
    "#8 Rodar o modelo\n",
    "m.optimize()\n",
    "m.setParam('LogToConsole',0)\n",
    "print(\"Valor Objetivo:\", m.objVal)"
   ]
  },
  {
   "cell_type": "code",
   "execution_count": null,
   "metadata": {},
   "outputs": [],
   "source": []
  }
 ],
 "metadata": {
  "kernelspec": {
   "display_name": "Python 3",
   "language": "python",
   "name": "python3"
  },
  "language_info": {
   "codemirror_mode": {
    "name": "ipython",
    "version": 3
   },
   "file_extension": ".py",
   "mimetype": "text/x-python",
   "name": "python",
   "nbconvert_exporter": "python",
   "pygments_lexer": "ipython3",
   "version": "3.8.5"
  }
 },
 "nbformat": 4,
 "nbformat_minor": 4
}

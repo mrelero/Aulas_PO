{
 "cells": [
  {
   "cell_type": "code",
   "execution_count": 6,
   "metadata": {},
   "outputs": [],
   "source": [
    "import gurobipy as gp"
   ]
  },
  {
   "cell_type": "code",
   "execution_count": 7,
   "metadata": {},
   "outputs": [
    {
     "name": "stdout",
     "output_type": "stream",
     "text": [
      "[53, 89, 221, 61, 73, 241, 153, 167, 194, 127, 193, 191, 79, 169, 97, 55, 225, 142, 150, 90]\n"
     ]
    }
   ],
   "source": [
    "# Dados brutos\n",
    "qtd_itens = 20\n",
    "qtd_caixas = 8 # Limitante superior obtido pelo algoritmo Next Fit\n",
    "capacidade = 400\n",
    "lista_pesos = [53, 89, 221, 61, 73, 241, 153, 167, 194, 127, 193, 191, 79, 169, 97, 55, 225, 142, 150, 90]\n",
    "\n",
    "print (lista_pesos)"
   ]
  },
  {
   "cell_type": "code",
   "execution_count": 8,
   "metadata": {},
   "outputs": [
    {
     "name": "stdout",
     "output_type": "stream",
     "text": [
      "['Item_1', 'Item_2', 'Item_3', 'Item_4', 'Item_5', 'Item_6', 'Item_7', 'Item_8', 'Item_9', 'Item_10', 'Item_11', 'Item_12', 'Item_13', 'Item_14', 'Item_15', 'Item_16', 'Item_17', 'Item_18', 'Item_19', 'Item_20']\n",
      "['Caixa_1', 'Caixa_2', 'Caixa_3', 'Caixa_4', 'Caixa_5', 'Caixa_6', 'Caixa_7', 'Caixa_8']\n"
     ]
    }
   ],
   "source": [
    "# Lista com os Indices dos itens\n",
    "itens = [\"Item_{}\".format(i + 1) for i in range(qtd_itens)]\n",
    "print(itens)\n",
    "caixas = [\"Caixa_{}\".format(i + 1) for i in range(qtd_caixas)]\n",
    "print(caixas)"
   ]
  },
  {
   "cell_type": "code",
   "execution_count": 9,
   "metadata": {},
   "outputs": [],
   "source": [
    "pesos = dict()\n",
    "for i in range(qtd_itens):\n",
    "    pesos[itens[i]] = lista_pesos[i]"
   ]
  },
  {
   "cell_type": "code",
   "execution_count": 10,
   "metadata": {},
   "outputs": [
    {
     "name": "stdout",
     "output_type": "stream",
     "text": [
      "{'Item_1': 53, 'Item_2': 89, 'Item_3': 221, 'Item_4': 61, 'Item_5': 73, 'Item_6': 241, 'Item_7': 153, 'Item_8': 167, 'Item_9': 194, 'Item_10': 127, 'Item_11': 193, 'Item_12': 191, 'Item_13': 79, 'Item_14': 169, 'Item_15': 97, 'Item_16': 55, 'Item_17': 225, 'Item_18': 142, 'Item_19': 150, 'Item_20': 90}\n"
     ]
    }
   ],
   "source": [
    "print(pesos)"
   ]
  },
  {
   "cell_type": "code",
   "execution_count": 11,
   "metadata": {},
   "outputs": [
    {
     "name": "stdout",
     "output_type": "stream",
     "text": [
      "Academic license - for non-commercial use only - expires 2021-07-17\n",
      "Using license file C:\\Users\\Usuario\\gurobi.lic\n",
      "Gurobi Optimizer version 9.1.2 build v9.1.2rc0 (win64)\n",
      "Thread count: 2 physical cores, 4 logical processors, using up to 4 threads\n",
      "Optimize a model with 28 rows, 168 columns and 328 nonzeros\n",
      "Model fingerprint: 0x5817cedb\n",
      "Variable types: 0 continuous, 168 integer (168 binary)\n",
      "Coefficient statistics:\n",
      "  Matrix range     [1e+00, 4e+02]\n",
      "  Objective range  [1e+00, 1e+00]\n",
      "  Bounds range     [1e+00, 1e+00]\n",
      "  RHS range        [1e+00, 1e+00]\n",
      "Found heuristic solution: objective 8.0000000\n",
      "Presolve time: 0.03s\n",
      "Presolved: 28 rows, 168 columns, 328 nonzeros\n",
      "Variable types: 0 continuous, 168 integer (168 binary)\n",
      "\n",
      "Root relaxation: objective 6.942500e+00, 49 iterations, 0.01 seconds\n",
      "\n",
      "    Nodes    |    Current Node    |     Objective Bounds      |     Work\n",
      " Expl Unexpl |  Obj  Depth IntInf | Incumbent    BestBd   Gap | It/Node Time\n",
      "\n",
      "     0     0    6.94250    0    4    8.00000    6.94250  13.2%     -    0s\n",
      "     0     0    6.94250    0   15    8.00000    6.94250  13.2%     -    0s\n",
      "     0     0    6.94250    0   11    8.00000    6.94250  13.2%     -    0s\n",
      "     0     0    6.94250    0   10    8.00000    6.94250  13.2%     -    0s\n",
      "     0     2    6.94250    0   10    8.00000    6.94250  13.2%     -    0s\n",
      "H  780    87                       7.0000000    7.00000  0.00%   3.7    0s\n",
      "\n",
      "Cutting planes:\n",
      "  Gomory: 3\n",
      "  Cover: 65\n",
      "  Clique: 3\n",
      "  MIR: 5\n",
      "  StrongCG: 5\n",
      "  Inf proof: 3\n",
      "\n",
      "Explored 833 nodes (3367 simplex iterations) in 0.56 seconds\n",
      "Thread count was 4 (of 4 available processors)\n",
      "\n",
      "Solution count 2: 7 8 \n",
      "\n",
      "Optimal solution found (tolerance 1.00e-04)\n",
      "Best objective 7.000000000000e+00, best bound 7.000000000000e+00, gap 0.0000%\n"
     ]
    }
   ],
   "source": [
    "#Modelagem\n",
    "m=gp.Model()\n",
    "\n",
    "#Adiciona as Variaveis de decisão\n",
    "alocacoes = m.addVars(itens, caixas, vtype = gp.GRB.BINARY)\n",
    "caixas_usadas = m.addVars(caixas, vtype = gp.GRB.BINARY)\n",
    "\n",
    "#Restrições - Capacidade das Caixas\n",
    "c_capacidade = m.addConstrs(gp.quicksum(pesos[i]*alocacoes[i, j] for i in itens)<= capacidade*caixas_usadas[j] for j in caixas)\n",
    "\n",
    "#Restrição - Cada item tem que estar em uma caixa\n",
    "c_alocacao = m.addConstrs(gp.quicksum(alocacoes[i, j] for j in caixas) == 1 for i in itens )\n",
    "\n",
    "#Funcao Objetivo\n",
    "m.setObjective(gp.quicksum (caixas_usadas[j] for j in caixas), sense = gp.GRB.MINIMIZE)\n",
    "\n",
    "m.optimize()\n"
   ]
  },
  {
   "cell_type": "code",
   "execution_count": 12,
   "metadata": {},
   "outputs": [
    {
     "data": {
      "text/plain": [
       "7.0"
      ]
     },
     "execution_count": 12,
     "metadata": {},
     "output_type": "execute_result"
    }
   ],
   "source": [
    "m.objVal"
   ]
  },
  {
   "cell_type": "code",
   "execution_count": 13,
   "metadata": {},
   "outputs": [
    {
     "name": "stdout",
     "output_type": "stream",
     "text": [
      "Caixa_1:  Item_1 Item_7 Item_9 \n",
      "\n",
      "Caixa_2:  Item_14 Item_17 \n",
      "\n",
      "Caixa_3:  Item_11 Item_12 \n",
      "\n",
      "Caixa_4:  Item_5 Item_10 Item_16 Item_18 \n",
      "\n",
      "Caixa_5:  Item_8 Item_13 Item_19 \n",
      "\n",
      "Caixa_6:  \n",
      "\n",
      "Caixa_7:  Item_2 Item_3 Item_20 \n",
      "\n",
      "Caixa_8:  Item_4 Item_6 Item_15 \n",
      "\n"
     ]
    }
   ],
   "source": [
    "#Verificar quais itens estão nas caixas\n",
    "for caixa in caixas:\n",
    "    print(\"{}: \".format(caixa), end = \" \")\n",
    "    for item in itens:\n",
    "        if round(alocacoes[item, caixa].x) == 1:\n",
    "            print (item, end = \" \")\n",
    "    print('\\n')\n",
    "       "
   ]
  },
  {
   "cell_type": "code",
   "execution_count": 14,
   "metadata": {},
   "outputs": [
    {
     "name": "stdout",
     "output_type": "stream",
     "text": [
      "Caixa_1: 400.0\n",
      "Caixa_2: 394.0\n",
      "Caixa_3: 384.0\n",
      "Caixa_4: 397.0\n",
      "Caixa_5: 396.0\n",
      "Caixa_6: 0.0\n",
      "Caixa_7: 400.0\n",
      "Caixa_8: 399.0\n"
     ]
    }
   ],
   "source": [
    "for caixa in caixas: \n",
    "    cap_usada = 0\n",
    "    for item in itens:\n",
    "        cap_usada += alocacoes[item, caixa].x*pesos[item]\n",
    "    print(\"{}: {}\". format(caixa, cap_usada))"
   ]
  },
  {
   "cell_type": "code",
   "execution_count": 15,
   "metadata": {},
   "outputs": [
    {
     "name": "stdout",
     "output_type": "stream",
     "text": [
      "400.0\n",
      "394.0\n",
      "384.0\n",
      "397.0\n",
      "396.0\n",
      "400.0\n",
      "400.0\n",
      "399.0\n"
     ]
    }
   ],
   "source": [
    "for caixa in caixas:\n",
    "    print(capacidade - c_capacidade[caixa].Slack)"
   ]
  },
  {
   "cell_type": "code",
   "execution_count": null,
   "metadata": {},
   "outputs": [],
   "source": []
  }
 ],
 "metadata": {
  "kernelspec": {
   "display_name": "Python 3",
   "language": "python",
   "name": "python3"
  },
  "language_info": {
   "codemirror_mode": {
    "name": "ipython",
    "version": 3
   },
   "file_extension": ".py",
   "mimetype": "text/x-python",
   "name": "python",
   "nbconvert_exporter": "python",
   "pygments_lexer": "ipython3",
   "version": "3.8.5"
  }
 },
 "nbformat": 4,
 "nbformat_minor": 4
}

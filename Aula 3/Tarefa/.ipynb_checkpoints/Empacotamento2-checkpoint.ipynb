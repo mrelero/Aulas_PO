{
 "cells": [
  {
   "cell_type": "code",
   "execution_count": 1,
   "metadata": {},
   "outputs": [],
   "source": [
    "import gurobipy as gp"
   ]
  },
  {
   "cell_type": "code",
   "execution_count": 8,
   "metadata": {},
   "outputs": [
    {
     "name": "stdout",
     "output_type": "stream",
     "text": [
      "[20, 35, 60, 10, 30, 45, 30, 65, 60, 30, 50, 20, 65, 70, 45]\n"
     ]
    }
   ],
   "source": [
    "# Dados brutos\n",
    "qtd_itens = 20\n",
    "qtd_caixas = 9 # Limitante superior obtido pelo algoritmo Next Fit\n",
    "capacidade = 400\n",
    "lista_pesos = [20, 35, 60, 10, 30, 45, 30, 65, 60, 30, 50, 20, 65, 70, 45]\n",
    "\n",
    "print (lista_pesos)"
   ]
  },
  {
   "cell_type": "code",
   "execution_count": 7,
   "metadata": {},
   "outputs": [
    {
     "name": "stdout",
     "output_type": "stream",
     "text": [
      "['Item_1', 'Item_2', 'Item_3', 'Item_4', 'Item_5', 'Item_6', 'Item_7', 'Item_8', 'Item_9', 'Item_10', 'Item_11', 'Item_12', 'Item_13', 'Item_14', 'Item_15']\n",
      "['Caixa_1', 'Caixa_2', 'Caixa_3', 'Caixa_4', 'Caixa_5', 'Caixa_6', 'Caixa_7', 'Caixa_8', 'Caixa_9']\n"
     ]
    }
   ],
   "source": [
    "# Lista com os Indices dos itens\n",
    "itens = [\"Item_{}\".format(i + 1) for i in range(qtd_itens)]\n",
    "print(itens)\n",
    "caixas = [\"Caixa_{}\".format(i + 1) for i in range(qtd_caixas)]\n",
    "print(caixas)"
   ]
  },
  {
   "cell_type": "code",
   "execution_count": 10,
   "metadata": {},
   "outputs": [],
   "source": [
    "pesos = dict()\n",
    "for i in range(qtd_itens):\n",
    "    pesos[itens[i]] = lista_pesos[i]"
   ]
  },
  {
   "cell_type": "code",
   "execution_count": 11,
   "metadata": {},
   "outputs": [
    {
     "name": "stdout",
     "output_type": "stream",
     "text": [
      "{'Item_1': 20, 'Item_2': 35, 'Item_3': 60, 'Item_4': 10, 'Item_5': 30, 'Item_6': 45, 'Item_7': 30, 'Item_8': 65, 'Item_9': 60, 'Item_10': 30, 'Item_11': 50, 'Item_12': 20, 'Item_13': 65, 'Item_14': 70, 'Item_15': 45}\n"
     ]
    }
   ],
   "source": [
    "print(pesos)"
   ]
  },
  {
   "cell_type": "code",
   "execution_count": 23,
   "metadata": {},
   "outputs": [
    {
     "name": "stdout",
     "output_type": "stream",
     "text": [
      "Gurobi Optimizer version 9.1.2 build v9.1.2rc0 (win64)\n",
      "Thread count: 2 physical cores, 4 logical processors, using up to 4 threads\n",
      "Optimize a model with 24 rows, 144 columns and 279 nonzeros\n",
      "Model fingerprint: 0x8cc81e0c\n",
      "Variable types: 0 continuous, 144 integer (144 binary)\n",
      "Coefficient statistics:\n",
      "  Matrix range     [1e+00, 1e+02]\n",
      "  Objective range  [1e+00, 1e+00]\n",
      "  Bounds range     [1e+00, 1e+00]\n",
      "  RHS range        [1e+00, 1e+00]\n",
      "Found heuristic solution: objective 9.0000000\n",
      "Presolve time: 0.01s\n",
      "Presolved: 24 rows, 144 columns, 279 nonzeros\n",
      "Variable types: 0 continuous, 144 integer (144 binary)\n",
      "\n",
      "Root relaxation: objective 6.350000e+00, 45 iterations, 0.00 seconds\n",
      "\n",
      "    Nodes    |    Current Node    |     Objective Bounds      |     Work\n",
      " Expl Unexpl |  Obj  Depth IntInf | Incumbent    BestBd   Gap | It/Node Time\n",
      "\n",
      "     0     0    6.35000    0    4    9.00000    6.35000  29.4%     -    0s\n",
      "H    0     0                       7.0000000    6.35000  9.29%     -    0s\n",
      "     0     0    6.35000    0    4    7.00000    6.35000  9.29%     -    0s\n",
      "\n",
      "Explored 1 nodes (188 simplex iterations) in 0.08 seconds\n",
      "Thread count was 4 (of 4 available processors)\n",
      "\n",
      "Solution count 2: 7 9 \n",
      "\n",
      "Optimal solution found (tolerance 1.00e-04)\n",
      "Best objective 7.000000000000e+00, best bound 7.000000000000e+00, gap 0.0000%\n"
     ]
    }
   ],
   "source": [
    "#Modelagem\n",
    "m=gp.Model()\n",
    "\n",
    "#Adiciona as Variaveis de decisão\n",
    "alocacoes = m.addVars(itens, caixas, vtype = gp.GRB.BINARY)\n",
    "caixas_usadas = m.addVars(caixas, vtype = gp.GRB.BINARY)\n",
    "\n",
    "#Restrições - Capacidade das Caixas\n",
    "c_capacidade = m.addConstrs(gp.quicksum(pesos[i]*alocacoes[i, j] for i in itens)<= capacidade*caixas_usadas[j] for j in caixas)\n",
    "\n",
    "#Restrição - Cada item tem que estar em uma caixa\n",
    "c_alocacao = m.addConstrs(gp.quicksum(alocacoes[i, j] for j in caixas) == 1 for i in itens )\n",
    "\n",
    "#Funcao Objetivo\n",
    "m.setObjective(gp.quicksum (caixas_usadas[j] for j in caixas), sense = gp.GRB.MINIMIZE)\n",
    "\n",
    "m.optimize()\n"
   ]
  },
  {
   "cell_type": "code",
   "execution_count": 24,
   "metadata": {},
   "outputs": [
    {
     "data": {
      "text/plain": [
       "7.0"
      ]
     },
     "execution_count": 24,
     "metadata": {},
     "output_type": "execute_result"
    }
   ],
   "source": [
    "m.objVal"
   ]
  },
  {
   "cell_type": "code",
   "execution_count": 38,
   "metadata": {},
   "outputs": [
    {
     "name": "stdout",
     "output_type": "stream",
     "text": [
      "Caixa_1:  Item_5 Item_8 \n",
      "\n",
      "Caixa_2:  Item_2 Item_13 \n",
      "\n",
      "Caixa_3:  Item_6 Item_15 \n",
      "\n",
      "Caixa_4:  \n",
      "\n",
      "Caixa_5:  Item_4 Item_9 Item_10 \n",
      "\n",
      "Caixa_6:  Item_7 Item_14 \n",
      "\n",
      "Caixa_7:  Item_1 Item_3 Item_12 \n",
      "\n",
      "Caixa_8:  Item_11 \n",
      "\n",
      "Caixa_9:  \n",
      "\n"
     ]
    }
   ],
   "source": [
    "#Verificar quais itens estão nas caixas\n",
    "for caixa in caixas:\n",
    "    print(\"{}: \".format(caixa), end = \" \")\n",
    "    for item in itens:\n",
    "        if round(alocacoes[item, caixa].x) == 1:\n",
    "            print (item, end = \" \")\n",
    "    print('\\n')\n",
    "       "
   ]
  },
  {
   "cell_type": "code",
   "execution_count": 32,
   "metadata": {},
   "outputs": [
    {
     "name": "stdout",
     "output_type": "stream",
     "text": [
      "Caixa_1: 95.0\n",
      "Caixa_2: 100.0\n",
      "Caixa_3: 90.0\n",
      "Caixa_4: 0.0\n",
      "Caixa_5: 100.0\n",
      "Caixa_6: 100.0\n",
      "Caixa_7: 100.0\n",
      "Caixa_8: 50.0\n",
      "Caixa_9: 0.0\n"
     ]
    }
   ],
   "source": [
    "for caixa in caixas: \n",
    "    cap_usada = 0\n",
    "    for item in itens:\n",
    "        cap_usada += alocacoes[item, caixa].x*pesos[item]\n",
    "    print(\"{}: {}\". format(caixa, cap_usada))"
   ]
  },
  {
   "cell_type": "code",
   "execution_count": 34,
   "metadata": {},
   "outputs": [
    {
     "name": "stdout",
     "output_type": "stream",
     "text": [
      "95.0\n",
      "100.0\n",
      "90.0\n",
      "100.0\n",
      "100.0\n",
      "100.0\n",
      "100.0\n",
      "50.0\n",
      "100.0\n"
     ]
    }
   ],
   "source": [
    "for caixa in caixas:\n",
    "    print(capacidade - c_capacidade[caixa].Slack)"
   ]
  },
  {
   "cell_type": "code",
   "execution_count": null,
   "metadata": {},
   "outputs": [],
   "source": []
  }
 ],
 "metadata": {
  "kernelspec": {
   "display_name": "Python 3",
   "language": "python",
   "name": "python3"
  },
  "language_info": {
   "codemirror_mode": {
    "name": "ipython",
    "version": 3
   },
   "file_extension": ".py",
   "mimetype": "text/x-python",
   "name": "python",
   "nbconvert_exporter": "python",
   "pygments_lexer": "ipython3",
   "version": "3.8.5"
  }
 },
 "nbformat": 4,
 "nbformat_minor": 4
}
